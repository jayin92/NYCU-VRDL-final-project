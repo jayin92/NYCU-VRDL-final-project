{
 "cells": [
  {
   "cell_type": "markdown",
   "id": "23a23ab6",
   "metadata": {
    "papermill": {
     "duration": 0.004034,
     "end_time": "2025-06-02T00:44:57.268579",
     "exception": false,
     "start_time": "2025-06-02T00:44:57.264545",
     "status": "completed"
    },
    "tags": []
   },
   "source": [
    "# Copy Inputs"
   ]
  },
  {
   "cell_type": "code",
   "execution_count": 1,
   "id": "29ecc98e",
   "metadata": {
    "_cell_guid": "b1076dfc-b9ad-4769-8c92-a6c4dae69d19",
    "_uuid": "8f2839f25d086af736a60e9eeb907d3b93b6e0e5",
    "execution": {
     "iopub.execute_input": "2025-06-02T00:44:57.276200Z",
     "iopub.status.busy": "2025-06-02T00:44:57.275882Z",
     "iopub.status.idle": "2025-06-02T00:45:17.693337Z",
     "shell.execute_reply": "2025-06-02T00:45:17.691999Z"
    },
    "papermill": {
     "duration": 20.4241,
     "end_time": "2025-06-02T00:45:17.695810",
     "exception": false,
     "start_time": "2025-06-02T00:44:57.271710",
     "status": "completed"
    },
    "tags": []
   },
   "outputs": [],
   "source": [
    "# copy retrieval weights\n",
    "!mkdir -p /root/.cache/torch/hub/netvlad\n",
    "!cp /kaggle/input/imc-23-weigths/Pitts30K_struct.mat /root/.cache/torch/hub/netvlad/VGG16-NetVLAD-Pitts30K.mat\n",
    "!cp -r /kaggle/input/imc-23-weigths/cosplace/gmberton_cosplace_main /root/.cache/torch/hub/gmberton_CosPlace_main\n",
    "!cp -r /kaggle/input/imc-23-weigths/cosplace/checkpoints /root/.cache/torch/hub/checkpoints\n",
    "\n",
    "# copy rotation prediction\n",
    "!mkdir -p /root/.cache/huggingface/\n",
    "!cp -r /kaggle/input/orientation-prediction-model/hub /root/.cache/huggingface/\n",
    "\n",
    "# copy run_pixsfm.py script to working directory and make it executable \n",
    "!cp /kaggle/input/imc-23-repo/IMC-2023/run_pixsfm.py /kaggle/working/run_pixsfm.py\n",
    "!chmod 777 run_pixsfm.py\n",
    "\n",
    "# copy hloc_reconstruction.py script to working directory and make it executable\n",
    "!cp /kaggle/input/imc-23-repo/IMC-2023/hloc_reconstruction.py /kaggle/working/hloc_reconstruction.py\n",
    "!chmod 777 hloc_reconstruction.py"
   ]
  },
  {
   "cell_type": "markdown",
   "id": "f074be9e",
   "metadata": {
    "papermill": {
     "duration": 0.002735,
     "end_time": "2025-06-02T00:45:17.702054",
     "exception": false,
     "start_time": "2025-06-02T00:45:17.699319",
     "status": "completed"
    },
    "tags": []
   },
   "source": [
    "# Create venv for PixSfM"
   ]
  },
  {
   "cell_type": "code",
   "execution_count": 2,
   "id": "538f954c",
   "metadata": {
    "execution": {
     "iopub.execute_input": "2025-06-02T00:45:17.710214Z",
     "iopub.status.busy": "2025-06-02T00:45:17.709153Z",
     "iopub.status.idle": "2025-06-02T00:45:23.607752Z",
     "shell.execute_reply": "2025-06-02T00:45:23.606386Z"
    },
    "papermill": {
     "duration": 5.905414,
     "end_time": "2025-06-02T00:45:23.610371",
     "exception": false,
     "start_time": "2025-06-02T00:45:17.704957",
     "status": "completed"
    },
    "tags": []
   },
   "outputs": [],
   "source": [
    "!python -m venv venv"
   ]
  },
  {
   "cell_type": "code",
   "execution_count": 3,
   "id": "4e9d7c4c",
   "metadata": {
    "execution": {
     "iopub.execute_input": "2025-06-02T00:45:23.621214Z",
     "iopub.status.busy": "2025-06-02T00:45:23.620875Z",
     "iopub.status.idle": "2025-06-02T00:50:30.653017Z",
     "shell.execute_reply": "2025-06-02T00:50:30.651745Z"
    },
    "papermill": {
     "duration": 307.040371,
     "end_time": "2025-06-02T00:50:30.655399",
     "exception": false,
     "start_time": "2025-06-02T00:45:23.615028",
     "status": "completed"
    },
    "tags": []
   },
   "outputs": [],
   "source": [
    "!cp -r /kaggle/input/imc-23-repo/venv ."
   ]
  },
  {
   "cell_type": "code",
   "execution_count": 4,
   "id": "83df4bb0",
   "metadata": {
    "execution": {
     "iopub.execute_input": "2025-06-02T00:50:30.663862Z",
     "iopub.status.busy": "2025-06-02T00:50:30.662979Z",
     "iopub.status.idle": "2025-06-02T00:50:33.152882Z",
     "shell.execute_reply": "2025-06-02T00:50:33.151050Z"
    },
    "papermill": {
     "duration": 2.497415,
     "end_time": "2025-06-02T00:50:33.156301",
     "exception": false,
     "start_time": "2025-06-02T00:50:30.658886",
     "status": "completed"
    },
    "tags": []
   },
   "outputs": [],
   "source": [
    "# copy pixsfm d2net\n",
    "!mkdir -p /kaggle/working/venv/lib/python3.10/site-packages/pixsfm/features/models/checkpoints\n",
    "!cp /kaggle/input/imc-23-weigths/s2dnet_weights.pth /kaggle/working/venv/lib/python3.10/site-packages/pixsfm/features/models/checkpoints/s2dnet_weights.pth"
   ]
  },
  {
   "cell_type": "code",
   "execution_count": 5,
   "id": "05cfc8d2",
   "metadata": {
    "execution": {
     "iopub.execute_input": "2025-06-02T00:50:33.180475Z",
     "iopub.status.busy": "2025-06-02T00:50:33.179966Z",
     "iopub.status.idle": "2025-06-02T00:50:34.222836Z",
     "shell.execute_reply": "2025-06-02T00:50:34.221584Z"
    },
    "papermill": {
     "duration": 1.054801,
     "end_time": "2025-06-02T00:50:34.225187",
     "exception": false,
     "start_time": "2025-06-02T00:50:33.170386",
     "status": "completed"
    },
    "tags": []
   },
   "outputs": [
    {
     "name": "stdout",
     "output_type": "stream",
     "text": [
      "Activate.ps1\t\tctest\t   normalizer  python3\r\n",
      "activate\t\tf2py\t   pip\t       python3.10\r\n",
      "activate.csh\t\tf2py3\t   pip3        torchrun\r\n",
      "activate.fish\t\tf2py3.10   pip3.10     tqdm\r\n",
      "cmake\t\t\tfonttools  pyftmerge   ttx\r\n",
      "convert-caffe2-to-onnx\tgdown\t   pyftsubset  wheel\r\n",
      "convert-onnx-to-caffe2\tisympy\t   pygrun\r\n",
      "cpack\t\t\tlit\t   python\r\n"
     ]
    }
   ],
   "source": [
    "!ls venv/bin"
   ]
  },
  {
   "cell_type": "markdown",
   "id": "e45b65c1",
   "metadata": {
    "papermill": {
     "duration": 0.002857,
     "end_time": "2025-06-02T00:50:34.231520",
     "exception": false,
     "start_time": "2025-06-02T00:50:34.228663",
     "status": "completed"
    },
    "tags": []
   },
   "source": [
    "# Install Dependencies"
   ]
  },
  {
   "cell_type": "code",
   "execution_count": 6,
   "id": "e17b30a0",
   "metadata": {
    "execution": {
     "iopub.execute_input": "2025-06-02T00:50:34.239064Z",
     "iopub.status.busy": "2025-06-02T00:50:34.238735Z",
     "iopub.status.idle": "2025-06-02T00:54:28.452050Z",
     "shell.execute_reply": "2025-06-02T00:54:28.450904Z"
    },
    "papermill": {
     "duration": 234.21977,
     "end_time": "2025-06-02T00:54:28.454256",
     "exception": false,
     "start_time": "2025-06-02T00:50:34.234486",
     "status": "completed"
    },
    "tags": []
   },
   "outputs": [
    {
     "name": "stdout",
     "output_type": "stream",
     "text": [
      "\u001b[33mWARNING: Running pip as the 'root' user can result in broken permissions and conflicting behaviour with the system package manager. It is recommended to use a virtual environment instead: https://pip.pypa.io/warnings/venv\u001b[0m\u001b[33m\r\n",
      "\u001b[0m\u001b[33mWARNING: Running pip as the 'root' user can result in broken permissions and conflicting behaviour with the system package manager. It is recommended to use a virtual environment instead: https://pip.pypa.io/warnings/venv\u001b[0m\u001b[33m\r\n",
      "\u001b[0m\u001b[33mWARNING: Running pip as the 'root' user can result in broken permissions and conflicting behaviour with the system package manager. It is recommended to use a virtual environment instead: https://pip.pypa.io/warnings/venv\u001b[0m\u001b[33m\r\n",
      "\u001b[0m\u001b[33mWARNING: Running pip as the 'root' user can result in broken permissions and conflicting behaviour with the system package manager. It is recommended to use a virtual environment instead: https://pip.pypa.io/warnings/venv\u001b[0m\u001b[33m\r\n",
      "\u001b[0m\u001b[33mWARNING: Running pip as the 'root' user can result in broken permissions and conflicting behaviour with the system package manager. It is recommended to use a virtual environment instead: https://pip.pypa.io/warnings/venv\u001b[0m\u001b[33m\r\n",
      "\u001b[0m\u001b[33mWARNING: Running pip as the 'root' user can result in broken permissions and conflicting behaviour with the system package manager. It is recommended to use a virtual environment instead: https://pip.pypa.io/warnings/venv\u001b[0m\u001b[33m\r\n",
      "\u001b[0m"
     ]
    }
   ],
   "source": [
    "# install hloc\n",
    "# %pip install -q /kaggle/input/imc-23-repo/IMC-2023/wheels/hloc-1.3-py3-none-any.whl --no-deps\n",
    "\n",
    "# install disk deps\n",
    "!pip install -q /kaggle/input/imc-23-repo/IMC-2023/wheels/torch_dimcheck-0.0.1-py3-none-any.whl\n",
    "!pip install -q /kaggle/input/imc-23-repo/IMC-2023/wheels/unets-0.2.0-py3-none-any.whl\n",
    "!pip install -q /kaggle/input/imc-23-repo/IMC-2023/wheels/torch_localize-0.1.0-py3-none-any.whl\n",
    "\n",
    "# install lightglue deps\n",
    "!pip install -q /kaggle/input/imc-23-repo/IMC-2023/wheels/einops-0.6.1-py3-none-any.whl\n",
    "\n",
    "# install rotation predition\n",
    "!pip install -q /kaggle/input/imc-23-repo/IMC-2023/wheels/dioad-1.0.0-py3-none-any.whl\n",
    "\n",
    "# install ALIKED deps\n",
    "!pip install -q /kaggle/input/imc-23-repo/IMC-2023/wheels/thop-0.1.1.post2209072238-py3-none-any.whl --no-deps"
   ]
  },
  {
   "cell_type": "code",
   "execution_count": 7,
   "id": "10f344d7",
   "metadata": {
    "execution": {
     "iopub.execute_input": "2025-06-02T00:54:28.464187Z",
     "iopub.status.busy": "2025-06-02T00:54:28.463840Z",
     "iopub.status.idle": "2025-06-02T00:54:28.468461Z",
     "shell.execute_reply": "2025-06-02T00:54:28.467674Z"
    },
    "papermill": {
     "duration": 0.011271,
     "end_time": "2025-06-02T00:54:28.470096",
     "exception": false,
     "start_time": "2025-06-02T00:54:28.458825",
     "status": "completed"
    },
    "tags": []
   },
   "outputs": [],
   "source": [
    "# tf version of original env\n",
    "# !pip install -q /kaggle/input/imc-23-repo/IMC-2023/wheels/protobuf-3.19.6-cp310-cp310-manylinux_2_17_x86_64.manylinux2014_x86_64.whl --no-deps\n",
    "# !pip install -q /kaggle/input/imc-23-repo/IMC-2023/wheels/google_auth-2.19.1-py2.py3-none-any.whl --no-deps\n",
    "# !pip install -q /kaggle/input/imc-23-repo/IMC-2023/wheels/google_auth_oauthlib-0.4.6-py2.py3-none-any.whl --no-deps\n",
    "# !pip install -q /kaggle/input/imc-23-repo/IMC-2023/wheels/tensorboard_data_server-0.6.1-py3-none-manylinux2010_x86_64.whl --no-deps\n",
    "# !pip install -q /kaggle/input/imc-23-repo/IMC-2023/wheels/tensorboard_plugin_wit-1.8.1-py3-none-any.whl --no-deps\n",
    "# !pip install -q /kaggle/input/imc-23-repo/IMC-2023/wheels/tensorboard-2.11.2-py3-none-any.whl --no-deps\n",
    "# !pip install -q /kaggle/input/imc-23-repo/IMC-2023/wheels/tensorflow_estimator-2.11.0-py2.py3-none-any.whl --no-deps\n",
    "# !pip install -q /kaggle/input/imc-23-repo/IMC-2023/wheels/tensorflow_io_gcs_filesystem-0.32.0-cp310-cp310-manylinux_2_12_x86_64.manylinux2010_x86_64.whl --no-deps\n",
    "# !pip install -q /kaggle/input/imc-23-repo/IMC-2023/wheels/keras-2.11.0-py2.py3-none-any.whl --no-deps\n",
    "# !pip install -q /kaggle/input/imc-23-repo/IMC-2023/wheels/tensorflow-2.11.0-cp310-cp310-manylinux_2_17_x86_64.manylinux2014_x86_64.whl"
   ]
  },
  {
   "cell_type": "markdown",
   "id": "e2231009",
   "metadata": {
    "papermill": {
     "duration": 0.003298,
     "end_time": "2025-06-02T00:54:28.477044",
     "exception": false,
     "start_time": "2025-06-02T00:54:28.473746",
     "status": "completed"
    },
    "tags": []
   },
   "source": [
    "# Run Pipeline"
   ]
  },
  {
   "cell_type": "code",
   "execution_count": 8,
   "id": "83c3114f",
   "metadata": {
    "execution": {
     "iopub.execute_input": "2025-06-02T00:54:28.485830Z",
     "iopub.status.busy": "2025-06-02T00:54:28.485461Z",
     "iopub.status.idle": "2025-06-02T00:54:29.480775Z",
     "shell.execute_reply": "2025-06-02T00:54:29.479594Z"
    },
    "papermill": {
     "duration": 1.002103,
     "end_time": "2025-06-02T00:54:29.483004",
     "exception": false,
     "start_time": "2025-06-02T00:54:28.480901",
     "status": "completed"
    },
    "tags": []
   },
   "outputs": [
    {
     "name": "stdout",
     "output_type": "stream",
     "text": [
      "/kaggle/working\r\n"
     ]
    }
   ],
   "source": [
    "!pwd"
   ]
  },
  {
   "cell_type": "code",
   "execution_count": 9,
   "id": "61e0f73d",
   "metadata": {
    "execution": {
     "iopub.execute_input": "2025-06-02T00:54:29.492101Z",
     "iopub.status.busy": "2025-06-02T00:54:29.491762Z",
     "iopub.status.idle": "2025-06-02T00:54:30.493248Z",
     "shell.execute_reply": "2025-06-02T00:54:30.492094Z"
    },
    "papermill": {
     "duration": 1.008437,
     "end_time": "2025-06-02T00:54:30.495336",
     "exception": false,
     "start_time": "2025-06-02T00:54:29.486899",
     "status": "completed"
    },
    "tags": []
   },
   "outputs": [
    {
     "name": "stdout",
     "output_type": "stream",
     "text": [
      "__notebook__.ipynb  hloc_reconstruction.py  run_pixsfm.py  venv\r\n"
     ]
    }
   ],
   "source": [
    "!ls"
   ]
  },
  {
   "cell_type": "code",
   "execution_count": 10,
   "id": "60867b95",
   "metadata": {
    "execution": {
     "iopub.execute_input": "2025-06-02T00:54:30.504780Z",
     "iopub.status.busy": "2025-06-02T00:54:30.504420Z",
     "iopub.status.idle": "2025-06-02T00:54:30.549243Z",
     "shell.execute_reply": "2025-06-02T00:54:30.548498Z"
    },
    "papermill": {
     "duration": 0.051633,
     "end_time": "2025-06-02T00:54:30.551314",
     "exception": false,
     "start_time": "2025-06-02T00:54:30.499681",
     "status": "completed"
    },
    "tags": []
   },
   "outputs": [],
   "source": [
    "# Adjust pixsfm config\n",
    "import yaml\n",
    "\n",
    "conf_path = \"/kaggle/input/imc-23-repo/IMC-2023/ext_deps/pixel-perfect-sfm/pixsfm/configs/low_memory.yaml\"\n",
    "\n",
    "with open(conf_path, 'r') as f:\n",
    "    conf = yaml.load(f, Loader=yaml.FullLoader)\n",
    "\n",
    "conf[\"mapping\"][\"BA\"][\"optimizer\"][\"refine_focal_length\"] = True\n",
    "conf[\"mapping\"][\"BA\"][\"optimizer\"][\"refine_extra_params\"] = True\n",
    "conf[\"mapping\"][\"BA\"][\"optimizer\"][\"refine_extrinsics\"] = True\n",
    "\n",
    "with open(\"pixsfm.yaml\", 'w') as f:\n",
    "    yaml.dump(conf, f)"
   ]
  },
  {
   "cell_type": "code",
   "execution_count": 11,
   "id": "b363a3b4",
   "metadata": {
    "execution": {
     "iopub.execute_input": "2025-06-02T00:54:30.560306Z",
     "iopub.status.busy": "2025-06-02T00:54:30.559909Z",
     "iopub.status.idle": "2025-06-02T00:55:19.437979Z",
     "shell.execute_reply": "2025-06-02T00:55:19.436631Z"
    },
    "papermill": {
     "duration": 48.884357,
     "end_time": "2025-06-02T00:55:19.439518",
     "exception": true,
     "start_time": "2025-06-02T00:54:30.555161",
     "status": "failed"
    },
    "tags": []
   },
   "outputs": [
    {
     "name": "stderr",
     "output_type": "stream",
     "text": [
      "/opt/conda/lib/python3.10/site-packages/tensorflow_io/python/ops/__init__.py:98: UserWarning: unable to load libtensorflow_io_plugins.so: unable to open file: libtensorflow_io_plugins.so, from paths: ['/opt/conda/lib/python3.10/site-packages/tensorflow_io/python/ops/libtensorflow_io_plugins.so']\n",
      "caused by: ['/opt/conda/lib/python3.10/site-packages/tensorflow_io/python/ops/libtensorflow_io_plugins.so: undefined symbol: _ZN3tsl6StatusC1EN10tensorflow5error4CodeESt17basic_string_viewIcSt11char_traitsIcEENS_14SourceLocationE']\n",
      "  warnings.warn(f\"unable to load libtensorflow_io_plugins.so: {e}\")\n",
      "/opt/conda/lib/python3.10/site-packages/tensorflow_io/python/ops/__init__.py:104: UserWarning: file system plugins are not loaded: unable to open file: libtensorflow_io.so, from paths: ['/opt/conda/lib/python3.10/site-packages/tensorflow_io/python/ops/libtensorflow_io.so']\n",
      "caused by: ['/opt/conda/lib/python3.10/site-packages/tensorflow_io/python/ops/libtensorflow_io.so: undefined symbol: _ZTVN10tensorflow13GcsFileSystemE']\n",
      "  warnings.warn(f\"file system plugins are not loaded: {e}\")\n",
      "[2025/06/02 00:54:45 root INFO] ================================================================================\n",
      "[2025/06/02 00:54:45 root INFO] Arguments:\n",
      "[2025/06/02 00:54:45 root INFO] ================================================================================\n",
      "[2025/06/02 00:54:45 root INFO]   data: /kaggle/input/image-matching-challenge-2023\n",
      "[2025/06/02 00:54:45 root INFO]   configs: ['ALIKED2Kh', 'DISKh', 'SIFT']\n",
      "[2025/06/02 00:54:45 root INFO]   retrieval: netvlad\n",
      "[2025/06/02 00:54:45 root INFO]   n_retrieval: 30\n",
      "[2025/06/02 00:54:45 root INFO]   mode: test\n",
      "[2025/06/02 00:54:45 root INFO]   output: /kaggle/temp\n",
      "[2025/06/02 00:54:45 root INFO]   pixsfm: True\n",
      "[2025/06/02 00:54:45 root INFO]   pixsfm_max_imgs: 9999\n",
      "[2025/06/02 00:54:45 root INFO]   pixsfm_low_mem_threshold: 9999\n",
      "[2025/06/02 00:54:45 root INFO]   pixsfm_config: /kaggle/working/pixsfm.yaml\n",
      "[2025/06/02 00:54:45 root INFO]   pixsfm_script_path: /kaggle/input/imc-23-repo/IMC-2023/run_pixsfm.py\n",
      "[2025/06/02 00:54:45 root INFO]   rotation_matching: False\n",
      "[2025/06/02 00:54:45 root INFO]   rotation_wrapper: False\n",
      "[2025/06/02 00:54:45 root INFO]   resize: None\n",
      "[2025/06/02 00:54:45 root INFO]   shared_camera: True\n",
      "[2025/06/02 00:54:45 root INFO]   overwrite: True\n",
      "[2025/06/02 00:54:45 root INFO]   kaggle: True\n",
      "[2025/06/02 00:54:45 root INFO]   cropping: False\n",
      "[2025/06/02 00:54:45 root INFO]   max_rel_crop_size: 1\n",
      "[2025/06/02 00:54:45 root INFO]   min_rel_crop_size: 0\n",
      "[2025/06/02 00:54:45 root INFO]   localize_unregistered: True\n",
      "[2025/06/02 00:54:45 root INFO]   skip_scenes: None\n",
      "[2025/06/02 00:54:45 root INFO] ================================================================================\n",
      "[2025/06/02 00:54:45 root INFO] DATA:\n",
      "[2025/06/02 00:54:45 root INFO] ================================================================================\n",
      "[2025/06/02 00:54:45 root INFO] 2cfa01ab573141e4\n",
      "[2025/06/02 00:54:45 root INFO]   2fa124afd1f74f38: 3 imgs\n",
      "[2025/06/02 00:55:18 root INFO] ================================================================================\n",
      "[2025/06/02 00:55:18 root INFO] 2cfa01ab573141e4\n",
      "[2025/06/02 00:55:18 root INFO] ================================================================================\n",
      "[2025/06/02 00:55:18 root INFO] ================================================================================\n",
      "[2025/06/02 00:55:18 root INFO] 2cfa01ab573141e4 - 2fa124afd1f74f38\n",
      "[2025/06/02 00:55:18 root INFO] ================================================================================\n",
      "[2025/06/02 00:55:18 root INFO] Data paths:\n",
      "[2025/06/02 00:55:18 root INFO]   input_dir: /kaggle/input/image-matching-challenge-2023/test/2cfa01ab573141e4/2fa124afd1f74f38\n",
      "[2025/06/02 00:55:18 root INFO]   scene_dir: /kaggle/temp/ALIKED2Kh+DISKh+SIFT-pixsfm-sci/2cfa01ab573141e4/2fa124afd1f74f38\n",
      "[2025/06/02 00:55:18 root INFO]   image_dir: /kaggle/temp/ALIKED2Kh+DISKh+SIFT-pixsfm-sci/2cfa01ab573141e4/2fa124afd1f74f38/images\n",
      "[2025/06/02 00:55:18 root INFO]   reference_model: None\n",
      "[2025/06/02 00:55:18 root INFO]   sfm_dir: /kaggle/temp/ALIKED2Kh+DISKh+SIFT-pixsfm-sci/2cfa01ab573141e4/2fa124afd1f74f38/sparse\n",
      "[2025/06/02 00:55:18 root INFO]   pairs_path: /kaggle/temp/ALIKED2Kh+DISKh+SIFT-pixsfm-sci/2cfa01ab573141e4/2fa124afd1f74f38/pairs.txt\n",
      "[2025/06/02 00:55:18 root INFO]   features_retrieval: /kaggle/temp/ALIKED2Kh+DISKh+SIFT-pixsfm-sci/2cfa01ab573141e4/2fa124afd1f74f38/features_retrieval.h5\n",
      "[2025/06/02 00:55:18 root INFO]   features_path: /kaggle/temp/ALIKED2Kh+DISKh+SIFT-pixsfm-sci/2cfa01ab573141e4/2fa124afd1f74f38/features.h5\n",
      "[2025/06/02 00:55:18 root INFO]   matches_path: /kaggle/temp/ALIKED2Kh+DISKh+SIFT-pixsfm-sci/2cfa01ab573141e4/2fa124afd1f74f38/matches.h5\n",
      "[2025/06/02 00:55:18 root INFO]   rotated_image_dir: /kaggle/temp/ALIKED2Kh+DISKh+SIFT-pixsfm-sci/2cfa01ab573141e4/2fa124afd1f74f38/images_rotated\n",
      "[2025/06/02 00:55:18 root INFO]   rotated_features_path: /kaggle/temp/ALIKED2Kh+DISKh+SIFT-pixsfm-sci/2cfa01ab573141e4/2fa124afd1f74f38/features_rotated.h5\n",
      "[2025/06/02 00:55:18 root INFO]   cropping_dir: /kaggle/temp/ALIKED2Kh+DISKh+SIFT-pixsfm-sci/2cfa01ab573141e4/2fa124afd1f74f38/cropping\n",
      "[2025/06/02 00:55:18 root INFO]   cropping_pairs_path: /kaggle/temp/ALIKED2Kh+DISKh+SIFT-pixsfm-sci/2cfa01ab573141e4/2fa124afd1f74f38/cropping/pairs.txt\n",
      "[2025/06/02 00:55:18 root INFO]   cropping_features_retrieval: /kaggle/temp/ALIKED2Kh+DISKh+SIFT-pixsfm-sci/2cfa01ab573141e4/2fa124afd1f74f38/cropping/features_retrieval.h5\n",
      "[2025/06/02 00:55:18 root INFO]   cropping_features_path: /kaggle/temp/ALIKED2Kh+DISKh+SIFT-pixsfm-sci/2cfa01ab573141e4/2fa124afd1f74f38/cropping/features.h5\n",
      "[2025/06/02 00:55:18 root INFO]   cropping_matches_path: /kaggle/temp/ALIKED2Kh+DISKh+SIFT-pixsfm-sci/2cfa01ab573141e4/2fa124afd1f74f38/cropping/matches.h5\n",
      "[2025/06/02 00:55:18 root INFO]   cache: /kaggle/temp/ALIKED2Kh+DISKh+SIFT-pixsfm-sci/cache\n",
      "[2025/06/02 00:55:18 root INFO] ================================================================================\n",
      "[2025/06/02 00:55:18 root INFO] Preprocessing\n",
      "[2025/06/02 00:55:18 root INFO] ================================================================================\n",
      "[2025/06/02 00:55:18 root DEBUG] Rescaling /kaggle/input/image-matching-challenge-2023/test/2cfa01ab573141e4/2fa124afd1f74f38/images\n",
      "[2025/06/02 00:55:18 root DEBUG] Saving to /kaggle/temp/ALIKED2Kh+DISKh+SIFT-pixsfm-sci/2cfa01ab573141e4/2fa124afd1f74f38/images\n",
      "Rescaling 2fa124afd1f74f38:   0%|                         | 0/3 [00:00<?, ?it/s][ WARN:0@46.970] global loadsave.cpp:244 findDecoder imread_('/kaggle/input/image-matching-challenge-2023/test/2cfa01ab573141e4/2fa124afd1f74f38/images/093870b65ebf4ded.png'): can't open/read file: check file path/integrity\n",
      "Rescaling 2fa124afd1f74f38:   0%|                         | 0/3 [00:00<?, ?it/s]\n"
     ]
    },
    {
     "ename": "AttributeError",
     "evalue": "'NoneType' object has no attribute 'shape'",
     "output_type": "error",
     "traceback": [
      "\u001b[0;31m---------------------------------------------------------------------------\u001b[0m",
      "\u001b[0;31mAttributeError\u001b[0m                            Traceback (most recent call last)",
      "Cell \u001b[0;32mIn[11], line 40\u001b[0m\n\u001b[1;32m     37\u001b[0m args \u001b[38;5;241m=\u001b[39m argparse\u001b[38;5;241m.\u001b[39mNamespace(\u001b[38;5;241m*\u001b[39m\u001b[38;5;241m*\u001b[39margs)\n\u001b[1;32m     38\u001b[0m os\u001b[38;5;241m.\u001b[39mmakedirs(args\u001b[38;5;241m.\u001b[39moutput, exist_ok\u001b[38;5;241m=\u001b[39m\u001b[38;5;28;01mTrue\u001b[39;00m)\n\u001b[0;32m---> 40\u001b[0m \u001b[43mmain\u001b[49m\u001b[43m(\u001b[49m\u001b[43margs\u001b[49m\u001b[43m)\u001b[49m\n",
      "File \u001b[0;32m/kaggle/input/imc-23-repo/IMC-2023/main.py:197\u001b[0m, in \u001b[0;36mmain\u001b[0;34m(args)\u001b[0m\n\u001b[1;32m    194\u001b[0m \u001b[38;5;66;03m# Define and run pipeline\u001b[39;00m\n\u001b[1;32m    195\u001b[0m pipeline \u001b[38;5;241m=\u001b[39m Pipeline(config\u001b[38;5;241m=\u001b[39mconfig, paths\u001b[38;5;241m=\u001b[39mpaths, img_list\u001b[38;5;241m=\u001b[39mimg_list, args\u001b[38;5;241m=\u001b[39margs)\n\u001b[0;32m--> 197\u001b[0m \u001b[43mpipeline\u001b[49m\u001b[38;5;241;43m.\u001b[39;49m\u001b[43mrun\u001b[49m\u001b[43m(\u001b[49m\u001b[43m)\u001b[49m\n\u001b[1;32m    199\u001b[0m sparse_model \u001b[38;5;241m=\u001b[39m pipeline\u001b[38;5;241m.\u001b[39msparse_model\n\u001b[1;32m    201\u001b[0m \u001b[38;5;28;01mif\u001b[39;00m sparse_model \u001b[38;5;129;01mis\u001b[39;00m \u001b[38;5;28;01mNone\u001b[39;00m:\n",
      "File \u001b[0;32m/kaggle/input/imc-23-repo/IMC-2023/imc2023/pipelines/pipeline.py:536\u001b[0m, in \u001b[0;36mPipeline.run\u001b[0;34m(self)\u001b[0m\n\u001b[1;32m    533\u001b[0m \u001b[38;5;28;01mdef\u001b[39;00m \u001b[38;5;21mrun\u001b[39m(\u001b[38;5;28mself\u001b[39m) \u001b[38;5;241m-\u001b[39m\u001b[38;5;241m>\u001b[39m \u001b[38;5;28;01mNone\u001b[39;00m:\n\u001b[1;32m    534\u001b[0m \u001b[38;5;250m    \u001b[39m\u001b[38;5;124;03m\"\"\"Run the pipeline.\"\"\"\u001b[39;00m\n\u001b[1;32m    535\u001b[0m     \u001b[38;5;28mself\u001b[39m\u001b[38;5;241m.\u001b[39mtiming \u001b[38;5;241m=\u001b[39m {\n\u001b[0;32m--> 536\u001b[0m         \u001b[38;5;124m\"\u001b[39m\u001b[38;5;124mpreprocessing\u001b[39m\u001b[38;5;124m\"\u001b[39m: \u001b[43mtime_function\u001b[49m\u001b[43m(\u001b[49m\u001b[38;5;28;43mself\u001b[39;49m\u001b[38;5;241;43m.\u001b[39;49m\u001b[43mpreprocess\u001b[49m\u001b[43m)\u001b[49m\u001b[43m(\u001b[49m\u001b[43m)\u001b[49m,\n\u001b[1;32m    537\u001b[0m         \u001b[38;5;124m\"\u001b[39m\u001b[38;5;124mcrop-images\u001b[39m\u001b[38;5;124m\"\u001b[39m: time_function(\u001b[38;5;28mself\u001b[39m\u001b[38;5;241m.\u001b[39mperform_cropping)(),\n\u001b[1;32m    538\u001b[0m         \u001b[38;5;124m\"\u001b[39m\u001b[38;5;124mpairs-extraction\u001b[39m\u001b[38;5;124m\"\u001b[39m: time_function(\u001b[38;5;28mself\u001b[39m\u001b[38;5;241m.\u001b[39mget_pairs)(),\n\u001b[1;32m    539\u001b[0m         \u001b[38;5;124m\"\u001b[39m\u001b[38;5;124mfeature-extraction\u001b[39m\u001b[38;5;124m\"\u001b[39m: time_function(\u001b[38;5;28mself\u001b[39m\u001b[38;5;241m.\u001b[39mextract_features)(),\n\u001b[1;32m    540\u001b[0m         \u001b[38;5;124m\"\u001b[39m\u001b[38;5;124mfeature-matching\u001b[39m\u001b[38;5;124m\"\u001b[39m: time_function(\u001b[38;5;28mself\u001b[39m\u001b[38;5;241m.\u001b[39mmatch_features)(),\n\u001b[1;32m    541\u001b[0m         \u001b[38;5;124m\"\u001b[39m\u001b[38;5;124mcreate-ensemble\u001b[39m\u001b[38;5;124m\"\u001b[39m: time_function(\u001b[38;5;28mself\u001b[39m\u001b[38;5;241m.\u001b[39mcreate_ensemble)(),\n\u001b[1;32m    542\u001b[0m         \u001b[38;5;124m\"\u001b[39m\u001b[38;5;124mrotate-keypoints\u001b[39m\u001b[38;5;124m\"\u001b[39m: time_function(\u001b[38;5;28mself\u001b[39m\u001b[38;5;241m.\u001b[39mrotate_keypoints)(),\n\u001b[1;32m    543\u001b[0m         \u001b[38;5;124m\"\u001b[39m\u001b[38;5;124msfm\u001b[39m\u001b[38;5;124m\"\u001b[39m: time_function(\u001b[38;5;28mself\u001b[39m\u001b[38;5;241m.\u001b[39msfm)(),\n\u001b[1;32m    544\u001b[0m         \u001b[38;5;124m\"\u001b[39m\u001b[38;5;124mback-rotate-cameras\u001b[39m\u001b[38;5;124m\"\u001b[39m: time_function(\u001b[38;5;28mself\u001b[39m\u001b[38;5;241m.\u001b[39mback_rotate_cameras)(),\n\u001b[1;32m    545\u001b[0m         \u001b[38;5;124m\"\u001b[39m\u001b[38;5;124mlocalize-unreg\u001b[39m\u001b[38;5;124m\"\u001b[39m: time_function(\u001b[38;5;28mself\u001b[39m\u001b[38;5;241m.\u001b[39mlocalize_unregistered)(),\n\u001b[1;32m    546\u001b[0m     }\n",
      "File \u001b[0;32m/kaggle/input/imc-23-repo/IMC-2023/imc2023/pipelines/pipeline.py:39\u001b[0m, in \u001b[0;36mtime_function.<locals>.wrapper\u001b[0;34m(*args, **kwargs)\u001b[0m\n\u001b[1;32m     37\u001b[0m \u001b[38;5;28;01mdef\u001b[39;00m \u001b[38;5;21mwrapper\u001b[39m(\u001b[38;5;241m*\u001b[39margs, \u001b[38;5;241m*\u001b[39m\u001b[38;5;241m*\u001b[39mkwargs):\n\u001b[1;32m     38\u001b[0m     start \u001b[38;5;241m=\u001b[39m time\u001b[38;5;241m.\u001b[39mtime()\n\u001b[0;32m---> 39\u001b[0m     \u001b[43mfunc\u001b[49m\u001b[43m(\u001b[49m\u001b[38;5;241;43m*\u001b[39;49m\u001b[43margs\u001b[49m\u001b[43m,\u001b[49m\u001b[43m \u001b[49m\u001b[38;5;241;43m*\u001b[39;49m\u001b[38;5;241;43m*\u001b[39;49m\u001b[43mkwargs\u001b[49m\u001b[43m)\u001b[49m\n\u001b[1;32m     40\u001b[0m     \u001b[38;5;28;01mreturn\u001b[39;00m time\u001b[38;5;241m.\u001b[39mtime() \u001b[38;5;241m-\u001b[39m start\n",
      "File \u001b[0;32m/kaggle/input/imc-23-repo/IMC-2023/imc2023/pipelines/pipeline.py:127\u001b[0m, in \u001b[0;36mPipeline.preprocess\u001b[0;34m(self)\u001b[0m\n\u001b[1;32m    124\u001b[0m \u001b[38;5;250m\u001b[39m\u001b[38;5;124;03m\"\"\"Preprocess the images.\"\"\"\u001b[39;00m\n\u001b[1;32m    125\u001b[0m \u001b[38;5;28mself\u001b[39m\u001b[38;5;241m.\u001b[39mlog_step(\u001b[38;5;124m\"\u001b[39m\u001b[38;5;124mPreprocessing\u001b[39m\u001b[38;5;124m\"\u001b[39m)\n\u001b[0;32m--> 127\u001b[0m \u001b[38;5;28mself\u001b[39m\u001b[38;5;241m.\u001b[39mrotation_angles, \u001b[38;5;28mself\u001b[39m\u001b[38;5;241m.\u001b[39msame_shapes \u001b[38;5;241m=\u001b[39m \u001b[43mpreprocess_image_dir\u001b[49m\u001b[43m(\u001b[49m\n\u001b[1;32m    128\u001b[0m \u001b[43m    \u001b[49m\u001b[43minput_dir\u001b[49m\u001b[38;5;241;43m=\u001b[39;49m\u001b[38;5;28;43mself\u001b[39;49m\u001b[38;5;241;43m.\u001b[39;49m\u001b[43mpaths\u001b[49m\u001b[38;5;241;43m.\u001b[39;49m\u001b[43minput_dir\u001b[49m\u001b[43m,\u001b[49m\n\u001b[1;32m    129\u001b[0m \u001b[43m    \u001b[49m\u001b[43moutput_dir\u001b[49m\u001b[38;5;241;43m=\u001b[39;49m\u001b[38;5;28;43mself\u001b[39;49m\u001b[38;5;241;43m.\u001b[39;49m\u001b[43mpaths\u001b[49m\u001b[38;5;241;43m.\u001b[39;49m\u001b[43mscene_dir\u001b[49m\u001b[43m,\u001b[49m\n\u001b[1;32m    130\u001b[0m \u001b[43m    \u001b[49m\u001b[43mimage_list\u001b[49m\u001b[38;5;241;43m=\u001b[39;49m\u001b[38;5;28;43mself\u001b[39;49m\u001b[38;5;241;43m.\u001b[39;49m\u001b[43mimg_list\u001b[49m\u001b[43m,\u001b[49m\n\u001b[1;32m    131\u001b[0m \u001b[43m    \u001b[49m\u001b[43margs\u001b[49m\u001b[38;5;241;43m=\u001b[39;49m\u001b[38;5;28;43mself\u001b[39;49m\u001b[38;5;241;43m.\u001b[39;49m\u001b[43margs\u001b[49m\u001b[43m,\u001b[49m\n\u001b[1;32m    132\u001b[0m \u001b[43m\u001b[49m\u001b[43m)\u001b[49m\n",
      "File \u001b[0;32m/kaggle/input/imc-23-repo/IMC-2023/imc2023/preprocessing.py:84\u001b[0m, in \u001b[0;36mpreprocess_image_dir\u001b[0;34m(input_dir, output_dir, image_list, args)\u001b[0m\n\u001b[1;32m     81\u001b[0m \u001b[38;5;28;01mif\u001b[39;00m prev_shape \u001b[38;5;129;01mis\u001b[39;00m \u001b[38;5;129;01mnot\u001b[39;00m \u001b[38;5;28;01mNone\u001b[39;00m:\n\u001b[1;32m     82\u001b[0m     same_original_shapes \u001b[38;5;241m&\u001b[39m\u001b[38;5;241m=\u001b[39m prev_shape \u001b[38;5;241m==\u001b[39m image\u001b[38;5;241m.\u001b[39mshape\n\u001b[0;32m---> 84\u001b[0m prev_shape \u001b[38;5;241m=\u001b[39m \u001b[43mimage\u001b[49m\u001b[38;5;241;43m.\u001b[39;49m\u001b[43mshape\u001b[49m\n\u001b[1;32m     86\u001b[0m \u001b[38;5;66;03m# resize image\u001b[39;00m\n\u001b[1;32m     87\u001b[0m \u001b[38;5;28;01mif\u001b[39;00m args\u001b[38;5;241m.\u001b[39mresize \u001b[38;5;129;01mis\u001b[39;00m \u001b[38;5;129;01mnot\u001b[39;00m \u001b[38;5;28;01mNone\u001b[39;00m:\n",
      "\u001b[0;31mAttributeError\u001b[0m: 'NoneType' object has no attribute 'shape'"
     ]
    }
   ],
   "source": [
    "import sys\n",
    "\n",
    "sys.path.append(\"/kaggle/input/imc-23-repo/IMC-2023\")\n",
    "sys.path.append(\"/kaggle/input/imc-23-repo/IMC-2023/ext_deps/Hierarchical-Localization\")\n",
    "sys.path.append(\"/kaggle/input/imc-23-repo/IMC-2023/ext_deps/dioad\")\n",
    "\n",
    "import os\n",
    "import argparse\n",
    "\n",
    "from main import main\n",
    "\n",
    "args = {\n",
    "    \"data\": \"/kaggle/input/image-matching-challenge-2023\",\n",
    "    \"configs\": [\"ALIKED2Kh\", \"DISKh\", \"SIFT\"],\n",
    "    \"retrieval\": \"netvlad\",\n",
    "    \"n_retrieval\": 30,\n",
    "    \"mode\": \"test\",\n",
    "    \"output\": \"/kaggle/temp\",\n",
    "    \"pixsfm\": True,\n",
    "    \"pixsfm_max_imgs\": 9999,\n",
    "    \"pixsfm_low_mem_threshold\": 9999,\n",
    "    \"pixsfm_config\": \"/kaggle/working/pixsfm.yaml\",\n",
    "    \"pixsfm_script_path\": \"/kaggle/input/imc-23-repo/IMC-2023/run_pixsfm.py\",\n",
    "    \"rotation_matching\": False,\n",
    "    \"rotation_wrapper\": False,\n",
    "    \"resize\": None,\n",
    "    \"shared_camera\": True,\n",
    "    \"overwrite\": True,\n",
    "    \"kaggle\": True,\n",
    "    \"cropping\": False,\n",
    "    \"max_rel_crop_size\": 1,\n",
    "    \"min_rel_crop_size\": 0,\n",
    "    \"localize_unregistered\": True,\n",
    "    \"skip_scenes\": None,\n",
    "}\n",
    "\n",
    "args = argparse.Namespace(**args)\n",
    "os.makedirs(args.output, exist_ok=True)\n",
    "\n",
    "main(args)"
   ]
  },
  {
   "cell_type": "code",
   "execution_count": null,
   "id": "c87bf737",
   "metadata": {
    "papermill": {
     "duration": null,
     "end_time": null,
     "exception": null,
     "start_time": null,
     "status": "pending"
    },
    "tags": []
   },
   "outputs": [],
   "source": [
    "!rm -rf venv"
   ]
  },
  {
   "cell_type": "code",
   "execution_count": null,
   "id": "86aa34d2",
   "metadata": {
    "papermill": {
     "duration": null,
     "end_time": null,
     "exception": null,
     "start_time": null,
     "status": "pending"
    },
    "tags": []
   },
   "outputs": [],
   "source": [
    "!ls -l"
   ]
  },
  {
   "cell_type": "code",
   "execution_count": null,
   "id": "65a4f87d",
   "metadata": {
    "papermill": {
     "duration": null,
     "end_time": null,
     "exception": null,
     "start_time": null,
     "status": "pending"
    },
    "tags": []
   },
   "outputs": [],
   "source": [
    "!ls ../temp"
   ]
  },
  {
   "cell_type": "code",
   "execution_count": null,
   "id": "46738f72",
   "metadata": {
    "papermill": {
     "duration": null,
     "end_time": null,
     "exception": null,
     "start_time": null,
     "status": "pending"
    },
    "tags": []
   },
   "outputs": [],
   "source": []
  }
 ],
 "metadata": {
  "kaggle": {
   "accelerator": "gpu",
   "dataSources": [
    {
     "databundleVersionId": 5447706,
     "sourceId": 49349,
     "sourceType": "competition"
    },
    {
     "datasetId": 3278289,
     "sourceId": 5706785,
     "sourceType": "datasetVersion"
    },
    {
     "datasetId": 3374783,
     "sourceId": 5887486,
     "sourceType": "datasetVersion"
    },
    {
     "datasetId": 3270798,
     "sourceId": 6003552,
     "sourceType": "datasetVersion"
    },
    {
     "datasetId": 3286300,
     "sourceId": 6004068,
     "sourceType": "datasetVersion"
    },
    {
     "datasetId": 7568008,
     "sourceId": 12028728,
     "sourceType": "datasetVersion"
    }
   ],
   "dockerImageVersionId": 30512,
   "isGpuEnabled": true,
   "isInternetEnabled": false,
   "language": "python",
   "sourceType": "notebook"
  },
  "kernelspec": {
   "display_name": "Python 3",
   "language": "python",
   "name": "python3"
  },
  "language_info": {
   "codemirror_mode": {
    "name": "ipython",
    "version": 3
   },
   "file_extension": ".py",
   "mimetype": "text/x-python",
   "name": "python",
   "nbconvert_exporter": "python",
   "pygments_lexer": "ipython3",
   "version": "3.10.10"
  },
  "papermill": {
   "default_parameters": {},
   "duration": 635.064881,
   "end_time": "2025-06-02T00:55:22.432700",
   "environment_variables": {},
   "exception": true,
   "input_path": "__notebook__.ipynb",
   "output_path": "__notebook__.ipynb",
   "parameters": {},
   "start_time": "2025-06-02T00:44:47.367819",
   "version": "2.4.0"
  }
 },
 "nbformat": 4,
 "nbformat_minor": 5
}
